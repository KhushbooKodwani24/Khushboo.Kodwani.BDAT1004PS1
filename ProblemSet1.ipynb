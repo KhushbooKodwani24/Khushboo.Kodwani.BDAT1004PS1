{
 "cells": [
  {
   "cell_type": "markdown",
   "id": "6f2a16ea",
   "metadata": {},
   "source": [
    "Problem Set 1\n",
    "\n",
    "Question 1 C#\n",
    "\n",
    "1. What data type is each of the following?\n",
    "A. 5\n",
    "B. 5.0\n",
    "C. 5 > 1\n",
    "D. '5'\n",
    "E. 5 * 2\n",
    "F. '5' * 2\n",
    "G. '5' + '2'\n",
    "H. 5 / 2\n",
    "I. 5 % 2\n",
    "J. {5, 2, 1}\n",
    "K. 5 == 3\n",
    "L. Pi (the number)"
   ]
  },
  {
   "cell_type": "code",
   "execution_count": null,
   "id": "e5c3b1da",
   "metadata": {},
   "outputs": [],
   "source": [
    "Answer: \n",
    "A. Int\n",
    "B. Float\n",
    "C. Int\n",
    "D. Char\n",
    "E. Int\n",
    "F. Int\n",
    "G. Int\n",
    "H. Int\n",
    "I. Int\n",
    "J. List\n",
    "K. Boolean\n",
    "L. FLoat\n"
   ]
  },
  {
   "cell_type": "code",
   "execution_count": null,
   "id": "fe075e49",
   "metadata": {},
   "outputs": [],
   "source": [
    "Question 2 C#\n",
    "\n",
    "Write (and evaluate) C# expressions that answer these questions:\n",
    "a. How many letters are there in 'Supercalifragilisticexpialidocious'?\n",
    "b. Does 'Supercalifragilisticexpialidocious' contain 'ice' as a substring? \n",
    "c. Which of the following words is the longest:\n",
    "Supercalifragilisticexpialidocious, Honorificabilitudinitatibus, or\n",
    "Bababadalgharaghtakamminarronnkonn?\n",
    "d. Which composer comes first in the dictionary: 'Berlioz', 'Borodin', 'Brian',\n",
    "'Bartok', 'Bellini', 'Buxtehude', 'Bernstein'. Which one comes last?"
   ]
  },
  {
   "cell_type": "code",
   "execution_count": 17,
   "id": "bf43c91b",
   "metadata": {
    "scrolled": true
   },
   "outputs": [
    {
     "name": "stdout",
     "output_type": "stream",
     "text": [
      "How many letters are there in 'Supercalifragilisticexpialidocious'?\n",
      "Answer:34\n"
     ]
    }
   ],
   "source": [
    "Console.WriteLine(\"How many letters are there in 'Supercalifragilisticexpialidocious'?\");\n",
    "string s1 = \"Supercalifragilisticexpialidocious\";\n",
    "int count = 0;\n",
    "foreach (char c in s1)\n",
    "{\n",
    "  count++;\n",
    "}\n",
    "Console.WriteLine(\"Answer:\"+count);\n"
   ]
  },
  {
   "cell_type": "code",
   "execution_count": 18,
   "id": "7e32bc59",
   "metadata": {},
   "outputs": [
    {
     "name": "stdout",
     "output_type": "stream",
     "text": [
      "b. Does 'Supercalifragilisticexpialidocious' contain 'ice' as a substring? \n",
      "Answer:True\n"
     ]
    }
   ],
   "source": [
    "Console.WriteLine(\"b. Does 'Supercalifragilisticexpialidocious' contain 'ice' as a substring? \");\n",
    "string s1 = \"Supercalifragilisticexpialidocious\";\n",
    "String subString = \"ice\";\n",
    "Boolean result = s1.Contains(subString);\n",
    "Console.WriteLine(\"Answer:\"+result);"
   ]
  },
  {
   "cell_type": "code",
   "execution_count": 16,
   "id": "5d2df3d3",
   "metadata": {},
   "outputs": [
    {
     "name": "stdout",
     "output_type": "stream",
     "text": [
      "Which of the following words is the longest:Supercalifragilisticexpialidocious, Honorificabilitudinitatibus, or Bababadalgharaghtakamminarronnkonn?\n",
      "Answer:Supercalifragilisticexpialidocious"
     ]
    }
   ],
   "source": [
    "Console.WriteLine(\"Which of the following words is the longest:Supercalifragilisticexpialidocious, Honorificabilitudinitatibus, or Bababadalgharaghtakamminarronnkonn?\");\n",
    "string[] arr = {\"Supercalifragilisticexpialidocious\", \"Honorificabilitudinitatibus\", \"Bababadalgharaghtakamminarronnkonn\"};\n",
    "          \n",
    "        string longest_string = arr[0];\n",
    "        foreach (string s in arr) {\n",
    "            if (s.Length > longest_string.Length) {\n",
    "                longest_string = s;\n",
    "            }\n",
    "        }\n",
    "        Console.Write(\"Answer:\"+longest_string);"
   ]
  },
  {
   "cell_type": "code",
   "execution_count": 28,
   "id": "142bb884",
   "metadata": {},
   "outputs": [
    {
     "name": "stdout",
     "output_type": "stream",
     "text": [
      "Which composer comes first in the dictionary: 'Berlioz', 'Borodin', 'Brian','Bartok', 'Bellini', 'Buxtehude', 'Bernstein'. Which one comes last?\n",
      "1 Berlioz\n",
      "2 Borodin\n",
      "3 Brian\n",
      "4 Bartok\n",
      "5 Bellini\n",
      "6 Buxtehude\n",
      "7 Bernstein\n"
     ]
    }
   ],
   "source": [
    "Console.WriteLine(\"Which composer comes first in the dictionary: 'Berlioz', 'Borodin', 'Brian','Bartok', 'Bellini', 'Buxtehude', 'Bernstein'. Which one comes last?\");\n",
    "SortedDictionary<string, string> names = new SortedDictionary<string, string>(); \n",
    "           names.Add(\"1\",\"Berlioz\"); \n",
    "               names.Add(\"2\",\"Borodin\");\n",
    "           names.Add(\"3\",  \"Brian\");\n",
    "           names.Add( \"4\",\"Bartok\"); \n",
    "           names.Add(\"5\",  \"Bellini\");\n",
    "           names.Add( \"6\", \"Buxtehude\");\n",
    "                      names.Add(\"7\",  \"Bernstein\");\n",
    "\n",
    "           foreach (KeyValuePair<string, string> kv in names)\n",
    "           {\n",
    "                 Console.WriteLine(kv.Key + \" \" + kv.Value);\n",
    "           }"
   ]
  },
  {
   "cell_type": "markdown",
   "id": "63342a9e",
   "metadata": {},
   "source": [
    "Question 3 C#\n",
    "\n",
    "Implement function triangleArea(a,b,c) that takes as input the lengths of the 3\n",
    "sides of a triangle and returns the area of the triangle. By Heron's formula, the area\n",
    "of a triangle with side lengths a, b, and c is\n",
    "s(s - a)(s -b)(s -c)\n",
    ", where\n",
    "s = (a+b+c)/2. "
   ]
  },
  {
   "cell_type": "code",
   "execution_count": 61,
   "id": "5cad6616",
   "metadata": {},
   "outputs": [],
   "source": [
    "public static void triangleArea(double a, double b, double c)\n",
    "{\n",
    "             double s,area;\n",
    "      \n",
    "\n",
    "            s = (a + b + c) / 2;\n",
    "            area = Math.Sqrt(s * ( s - a) * (s - b) * (s - c)); \n",
    "    Console.WriteLine(area);\n",
    "\n",
    "}\n"
   ]
  },
  {
   "cell_type": "code",
   "execution_count": 62,
   "id": "91166b5b",
   "metadata": {
    "scrolled": true
   },
   "outputs": [
    {
     "name": "stdout",
     "output_type": "stream",
     "text": [
      "1.7320508075688772\r\n"
     ]
    }
   ],
   "source": [
    "   triangleArea(2,2,2);\n"
   ]
  },
  {
   "cell_type": "code",
   "execution_count": null,
   "id": "938af230",
   "metadata": {},
   "outputs": [],
   "source": [
    "Question 4 C#\n",
    "\n",
    "Write a program in C# Sharp to separate odd and even integers in separate arrays.\n",
    "Go to the editor\n",
    "Test Data :\n",
    "Input the number of elements to be stored in the array :5\n",
    "Input 5 elements in the array :\n",
    "element - 0 : 25\n",
    "element - 1 : 47\n",
    "element - 2 : 42\n",
    "element - 3 : 56\n",
    "element - 4 : 32\n",
    "Expected Output:\n",
    "The Even elements are:\n",
    "42 56 32\n",
    "The Odd elements are :\n",
    "25 47"
   ]
  },
  {
   "cell_type": "code",
   "execution_count": 66,
   "id": "feee2cdb",
   "metadata": {},
   "outputs": [
    {
     "name": "stdout",
     "output_type": "stream",
     "text": [
      "The Even elements are\n",
      "42\n",
      "56\n",
      "32\n",
      "The Even elements are\n",
      "25\n",
      "47\n"
     ]
    }
   ],
   "source": [
    "int[] arr1 = new int[] {\n",
    "            25,\n",
    "            47,\n",
    "            42,\n",
    "            56,\n",
    "            32\n",
    "         };\n",
    "         int[] arr2 = new int[5];\n",
    "         int[] arr3 = new int[5];\n",
    "         int i, j = 0, k = 0;\n",
    "         for (i = 0; i < 5; i++) {\n",
    "            if (arr1[i] % 2 == 0) {\n",
    "               arr2[j] = arr1[i];\n",
    "               j++;\n",
    "            } else {\n",
    "               arr3[k] = arr1[i];\n",
    "               k++;\n",
    "            }\n",
    "         }\n",
    "         Console.WriteLine(\"The Even elements are\");\n",
    "         for (i = 0; i < j; i++) {\n",
    "            Console.WriteLine(arr2[i]);\n",
    "         }\n",
    "         Console.WriteLine(\"The Even elements are\");\n",
    "         for (i = 0; i < k; i++) {\n",
    "            Console.WriteLine(arr3[i]);\n",
    "         }\n",
    "  "
   ]
  },
  {
   "cell_type": "code",
   "execution_count": null,
   "id": "e1254c6f",
   "metadata": {},
   "outputs": [],
   "source": [
    "Question 5 C#\n",
    "\n",
    "a. Write a function inside(x,y,x1,y1,x2,y2) that returns True or False\n",
    "depending on whether the point (x,y) lies in the rectangle with lower left\n",
    "corner (x1,y1) and upper right corner (x2,y2)."
   ]
  },
  {
   "cell_type": "code",
   "execution_count": 79,
   "id": "69cbf1e0",
   "metadata": {},
   "outputs": [
    {
     "name": "stdout",
     "output_type": "stream",
     "text": [
      "True"
     ]
    }
   ],
   "source": [
    "\n",
    " if (inside(x,y,x1,y1,x2,y2))\n",
    "       Console.Write(\"True\");\n",
    "    else\n",
    "        Console.Write(\"False\");\n",
    " static bool inside(int x, int y,int x1, int y1, int x2,\n",
    "                      int y2)\n",
    "{\n",
    "if (x > x1 && x < x2 &&\n",
    "    y > y1 && y < y2)\n",
    "    return true;\n",
    " \n",
    "return false;\n",
    "\n",
    "}"
   ]
  },
  {
   "cell_type": "code",
   "execution_count": 80,
   "id": "f6a47050",
   "metadata": {},
   "outputs": [
    {
     "data": {
      "text/html": [
       "<div class=\"dni-plaintext\">True</div>"
      ]
     },
     "execution_count": 80,
     "metadata": {},
     "output_type": "execute_result"
    }
   ],
   "source": [
    "inside(1,1,0,0,2,3)"
   ]
  },
  {
   "cell_type": "code",
   "execution_count": 81,
   "id": "1e06b4a6",
   "metadata": {},
   "outputs": [
    {
     "data": {
      "text/html": [
       "<div class=\"dni-plaintext\">False</div>"
      ]
     },
     "execution_count": 81,
     "metadata": {},
     "output_type": "execute_result"
    }
   ],
   "source": [
    "inside(-1,-1,0,0,2,3)"
   ]
  },
  {
   "cell_type": "code",
   "execution_count": null,
   "id": "f6755e41",
   "metadata": {},
   "outputs": [],
   "source": [
    "Use function inside() from part a. to write an expression that tests whether\n",
    "the point (1,1) lies in both of the following rectangles: one with lower left\n",
    "corner (0.3, 0.5) and upper right corner (1.1, 0.7) and the other with lower\n",
    "left corner (0.5, 0.2) and upper right corner (1.1, 2). "
   ]
  },
  {
   "cell_type": "code",
   "execution_count": 83,
   "id": "9c1b464c",
   "metadata": {},
   "outputs": [
    {
     "name": "stdout",
     "output_type": "stream",
     "text": [
      "True"
     ]
    }
   ],
   "source": [
    "if (inside(x,y,x1,y1,x2,y2))\n",
    "       Console.Write(\"True\");\n",
    "    else\n",
    "        Console.Write(\"False\");\n",
    " static bool inside(double x, double y,double x1, double y1, double x2,\n",
    "                      double y2)\n",
    "{\n",
    "if (x > x1 && x < x2 &&\n",
    "    y > y1 && y < y2)\n",
    "    return true;\n",
    " \n",
    "return false;\n",
    "\n",
    "}"
   ]
  },
  {
   "cell_type": "code",
   "execution_count": 84,
   "id": "24e7e5ca",
   "metadata": {},
   "outputs": [
    {
     "data": {
      "text/html": [
       "<div class=\"dni-plaintext\">False</div>"
      ]
     },
     "execution_count": 84,
     "metadata": {},
     "output_type": "execute_result"
    }
   ],
   "source": [
    "inside(1,1,0.3,0.5,1.1,0.7)"
   ]
  },
  {
   "cell_type": "code",
   "execution_count": 86,
   "id": "6416b6e5",
   "metadata": {},
   "outputs": [
    {
     "data": {
      "text/html": [
       "<div class=\"dni-plaintext\">True</div>"
      ]
     },
     "execution_count": 86,
     "metadata": {},
     "output_type": "execute_result"
    }
   ],
   "source": [
    "inside(1,1,0.5,0.2,1.1,2)"
   ]
  },
  {
   "cell_type": "code",
   "execution_count": null,
   "id": "081b3ac8",
   "metadata": {},
   "outputs": [],
   "source": []
  }
 ],
 "metadata": {
  "kernelspec": {
   "display_name": ".NET (C#)",
   "language": "C#",
   "name": ".net-csharp"
  },
  "language_info": {
   "file_extension": ".cs",
   "mimetype": "text/x-csharp",
   "name": "C#",
   "pygments_lexer": "csharp",
   "version": "9.0"
  }
 },
 "nbformat": 4,
 "nbformat_minor": 5
}
